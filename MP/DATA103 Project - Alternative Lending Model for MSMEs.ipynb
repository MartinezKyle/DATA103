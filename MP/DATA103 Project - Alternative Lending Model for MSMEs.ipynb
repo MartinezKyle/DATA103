{
 "cells": [
  {
   "cell_type": "markdown",
   "id": "4ed123bc",
   "metadata": {},
   "source": [
    "# DATA103 Project: Alternative Lending Model for MSMEs"
   ]
  },
  {
   "cell_type": "code",
   "execution_count": null,
   "id": "342faab1",
   "metadata": {},
   "outputs": [],
   "source": [
    "import pandas as pd\n",
    "import numpy as np\n",
    "import matplotlib.pyplot as plt\n",
    "import seaborn as sns\n",
    "\n",
    "# Add other imports here"
   ]
  },
  {
   "cell_type": "markdown",
   "id": "1e65ce2d",
   "metadata": {},
   "source": [
    "## Table of Contents\n",
    "* Problem Statement\n",
    "* Data Collection\n",
    "* Exploratory Data Analysis\n",
    "* Data Pre-processing\n",
    "    * Data Cleaning \n",
    "    * Feature Engineering\n",
    "    * Feature Selection\n",
    "* Modeling\n",
    "    * Evaluation\n",
    "* Evaluation\n",
    "* Conclusion\n",
    "* References"
   ]
  },
  {
   "cell_type": "markdown",
   "id": "4322b98b",
   "metadata": {},
   "source": [
    "## Problem Statement"
   ]
  },
  {
   "cell_type": "code",
   "execution_count": null,
   "id": "a7a80303",
   "metadata": {},
   "outputs": [],
   "source": []
  },
  {
   "cell_type": "markdown",
   "id": "71e9714c",
   "metadata": {},
   "source": [
    "## Data Collection"
   ]
  },
  {
   "cell_type": "code",
   "execution_count": null,
   "id": "e5286956",
   "metadata": {},
   "outputs": [],
   "source": []
  },
  {
   "cell_type": "markdown",
   "id": "45bb7ce9",
   "metadata": {},
   "source": [
    "Follow these steps to set up the required files:  \n",
    "\n",
    "1. Access this [this Google Drive folder.](https://drive.google.com/drive/folders/1mIovyODtxx3SbtN-6WsbRh_6XDA99zCM).  \n",
    "2. Download all files.  \n",
    "3. Save them in a folder named `data` in the directory of this notebook.  \n",
    "\n",
    "Once done, you can proceed to the next sections.  "
   ]
  },
  {
   "cell_type": "markdown",
   "id": "e651ba76",
   "metadata": {},
   "source": [
    "## Exploratory Data Analysis"
   ]
  },
  {
   "cell_type": "code",
   "execution_count": null,
   "id": "fc1a5f76",
   "metadata": {},
   "outputs": [],
   "source": []
  },
  {
   "cell_type": "markdown",
   "id": "c07d09db",
   "metadata": {},
   "source": [
    "## Data Pre-processing"
   ]
  },
  {
   "cell_type": "code",
   "execution_count": null,
   "id": "a7bf4c18",
   "metadata": {},
   "outputs": [],
   "source": []
  },
  {
   "cell_type": "markdown",
   "id": "8e0a4dcd",
   "metadata": {},
   "source": [
    "### Data Cleaning"
   ]
  },
  {
   "cell_type": "code",
   "execution_count": null,
   "id": "9c771ad6",
   "metadata": {},
   "outputs": [],
   "source": []
  },
  {
   "cell_type": "markdown",
   "id": "6b0c907e",
   "metadata": {},
   "source": [
    "### Feature Engineering"
   ]
  },
  {
   "cell_type": "code",
   "execution_count": null,
   "id": "5dc5f8da",
   "metadata": {},
   "outputs": [],
   "source": []
  },
  {
   "cell_type": "markdown",
   "id": "b2a42ebf",
   "metadata": {},
   "source": [
    "### Feature Selection"
   ]
  },
  {
   "cell_type": "code",
   "execution_count": null,
   "id": "ef9e33a8",
   "metadata": {},
   "outputs": [],
   "source": []
  },
  {
   "cell_type": "markdown",
   "id": "584b46e4",
   "metadata": {},
   "source": [
    "## Modeling"
   ]
  },
  {
   "cell_type": "code",
   "execution_count": null,
   "id": "04c6a48d",
   "metadata": {},
   "outputs": [],
   "source": []
  },
  {
   "cell_type": "markdown",
   "id": "e67f8b2f",
   "metadata": {},
   "source": [
    "### Evaluation"
   ]
  },
  {
   "cell_type": "code",
   "execution_count": null,
   "id": "71ba457c",
   "metadata": {},
   "outputs": [],
   "source": []
  },
  {
   "cell_type": "markdown",
   "id": "67723863",
   "metadata": {},
   "source": [
    "## Conclusion\n",
    "\n",
    "Add conclusion here. Lorem ipsum dolor sit amet, consectetur adipiscing elit. Fusce quis leo lacinia tellus maximus gravida at ut magna. Etiam cursus ultricies tortor a cursus. Cras quam urna, maximus ut justo vel, tempus suscipit elit. Aenean vehicula porttitor metus ullamcorper placerat. Donec mollis mauris augue, vitae finibus sapien dapibus ut."
   ]
  },
  {
   "cell_type": "markdown",
   "id": "6efd26ed",
   "metadata": {},
   "source": [
    "## References\n",
    "* Insert list of references here."
   ]
  }
 ],
 "metadata": {
  "kernelspec": {
   "display_name": "Python 3 (ipykernel)",
   "language": "python",
   "name": "python3"
  },
  "language_info": {
   "codemirror_mode": {
    "name": "ipython",
    "version": 3
   },
   "file_extension": ".py",
   "mimetype": "text/x-python",
   "name": "python",
   "nbconvert_exporter": "python",
   "pygments_lexer": "ipython3",
   "version": "3.11.4"
  }
 },
 "nbformat": 4,
 "nbformat_minor": 5
}
