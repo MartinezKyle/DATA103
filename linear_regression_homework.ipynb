{
  "cells": [
    {
      "cell_type": "markdown",
      "metadata": {
        "colab_type": "text",
        "id": "view-in-github"
      },
      "source": [
        "<a href=\"https://colab.research.google.com/github/MartinezKyle/DATA103/blob/main/linear_regression_homework.ipynb\" target=\"_parent\"><img src=\"https://colab.research.google.com/assets/colab-badge.svg\" alt=\"Open In Colab\"/></a>"
      ]
    },
    {
      "cell_type": "markdown",
      "metadata": {
        "id": "CPwjxYw5Gmww"
      },
      "source": [
        "## Machine Learning: Linear Regression Homework\n",
        "\n",
        "*Prepared by:*  \n",
        "**Jude Michael Teves**  \n",
        "Faculty, Software Technology Department  \n",
        "College of Computer Studies - De La Salle University\n",
        "\n",
        "<hr>\n",
        "\n",
        "Submitted by:\n",
        " - MARTINEZ, Kyle\n",
        " - FERNANDEZ, Chelsea \n",
        " - DECULAWAN, Ryan\n",
        " - PPOSADAS, Annika\n",
        " - HAUSCHILD, Melanie\n"
      ]
    },
    {
      "cell_type": "markdown",
      "metadata": {
        "id": "fnOgtt4IG-x5"
      },
      "source": [
        "## Requirements\n",
        "\n",
        " - Implement linear regression from scratch using the functions provided. You *may* refer to the code given in the lecture to help you out in the implementation.\n",
        " - Replace `raise NotImplementedError` with your code.\n",
        " - You may only use the <a href=\"https://docs.python.org/3/library/\">Python Standard libraries</a>, numpy, pandas, and matplotlib (if you will be doing visualization although that's not required). `collections` is an example of Python Standard Library.\n",
        " - **Do not remove the assert/test cells.**\n",
        " - You have to create a writeup on the code you've written.\n",
        " - Cite references if there are any. If you will be using the code I've given, cite it. If you got help from your peers, cite it as well.\n",
        " - Submit the link for your copy of this Google Colaboratory notebook. **Make sure it's public**. You may use incognito to see if the link is accessible.\n",
        "\n",
        "<hr>\n",
        "\n",
        "## Grading Criteria\n",
        "\n",
        "|Criteria|Points|\n",
        "|---|---|\n",
        "|Code|20|\n",
        "|Writeup|5|\n"
      ]
    },
    {
      "cell_type": "markdown",
      "metadata": {
        "id": "IRVKeR41vmIZ"
      },
      "source": [
        "## Core functions\n",
        "\n",
        "Implement the functions below.\n",
        "\n",
        "\n",
        "**Loss function:**\n",
        "$$l(\\vec{\\theta}) = \\frac{1}{2n} (X \\vec{\\theta} - \\vec{y})^T(X \\vec{\\theta} - \\vec{y})$$\n",
        "---\n",
        "**Gradient function:**\n",
        "$$\\dfrac{\\partial}{\\partial \\vec{\\theta} } l( \\vec{\\theta} ) = \\frac{1}{n} (X \\vec{\\theta} - \\vec{y})^T X$$\n",
        "---\n",
        "**Weight update rule:**\n",
        "$$\\vec{\\theta} := \\vec{\\theta} - \\frac{\\alpha}{n}(X \\vec{\\theta} - \\vec{y})^T X$$\n",
        "---"
      ]
    },
    {
      "cell_type": "code",
      "execution_count": 5,
      "metadata": {
        "id": "R5wqLz1lwC6k"
      },
      "outputs": [],
      "source": [
        "import numpy as np\n",
        "import matplotlib.pyplot as plt\n",
        "\n",
        "import seaborn as sns\n",
        "from numpy.testing import assert_almost_equal\n",
        "\n",
        "from sklearn import datasets\n",
        "from sklearn.model_selection import train_test_split\n",
        "\n",
        "sns.set_style('darkgrid')\n",
        "sns.set_palette('Set2')\n",
        "\n",
        "def compute_loss(X:np.array, theta:np.array, y:np.array) -> float:\n",
        "  '''\n",
        "  Compute mean-squared error loss\n",
        "\n",
        "  Parameters\n",
        "  ---\n",
        "  X : input matrix\n",
        "  theta : weights vector\n",
        "  y : output vector\n",
        "\n",
        "  Returns\n",
        "  ---\n",
        "  loss : float\n",
        "  '''\n",
        "  # insert code here\n",
        "  loss = (1 / (2 * len(y))) * np.dot((X.dot(theta) - y).T, X.dot(theta) - y)\n",
        "  return loss\n",
        "\n",
        "def compute_gradient(X:np.array, theta:np.array, y:np.array) -> np.array:\n",
        "  '''\n",
        "  Compute the gradient of mean-squared error loss\n",
        "\n",
        "  Parameters\n",
        "  ---\n",
        "  X : input matrix\n",
        "  theta : weights vector\n",
        "  y : output vector\n",
        "\n",
        "  Returns\n",
        "  ---\n",
        "  gradient : np.array\n",
        "  '''\n",
        "  # insert code here\n",
        "  gradient = (1 / len(y)) * np.dot(X.T, (X.dot(theta) - y))\n",
        "  return gradient\n",
        "\n",
        "def weight_update(X:np.array, theta:np.array, y:np.array, alpha:float) -> np.array:\n",
        "  '''\n",
        "  Perform 1 iteration of gradient descent and return the updated weights\n",
        "\n",
        "  Parameters\n",
        "  ---\n",
        "  X : input matrix\n",
        "  theta : weights vector\n",
        "  y : output vector\n",
        "  alpha : learning rate\n",
        "\n",
        "  Returns\n",
        "  ---\n",
        "  theta : np.array\n",
        "  '''\n",
        "  # insert code here\n",
        "  theta = theta - alpha * compute_gradient(X, theta, y)\n",
        "  return theta"
      ]
    },
    {
      "cell_type": "markdown",
      "metadata": {
        "id": "EpmpFpFzzm6F"
      },
      "source": [
        "### Test Cases"
      ]
    },
    {
      "cell_type": "code",
      "execution_count": 6,
      "metadata": {
        "colab": {
          "base_uri": "https://localhost:8080/"
        },
        "id": "vRvv9tAywPkB",
        "outputId": "da1a82ac-507a-4236-d781-f95478fa1eb2"
      },
      "outputs": [
        {
          "name": "stdout",
          "output_type": "stream",
          "text": [
            "Passed all tests!\n"
          ]
        }
      ],
      "source": [
        "# DO NOT EDIT THIS CELL\n",
        "# test cases for loss function\n",
        "\n",
        "X = np.array([[1, 2], [1, 4]])\n",
        "theta = np.array([0, 2]) # initial weights\n",
        "y = np.array([4, 8])\n",
        "loss = compute_loss(X, theta, y)\n",
        "assert_almost_equal(loss, 0)\n",
        "\n",
        "y = np.array([5, 9])\n",
        "loss = compute_loss(X, theta, y)\n",
        "assert_almost_equal(loss, 0.5)\n",
        "\n",
        "y = np.array([6, 10])\n",
        "loss = compute_loss(X, theta, y)\n",
        "assert_almost_equal(loss, 2)\n",
        "\n",
        "print('Passed all tests!')"
      ]
    },
    {
      "cell_type": "code",
      "execution_count": 7,
      "metadata": {
        "colab": {
          "base_uri": "https://localhost:8080/"
        },
        "id": "28BZMzNbwQCG",
        "outputId": "daac5e8c-c44e-4442-d72a-a5c6479cf216"
      },
      "outputs": [
        {
          "name": "stdout",
          "output_type": "stream",
          "text": [
            "Passed all tests!\n"
          ]
        }
      ],
      "source": [
        "# DO NOT EDIT THIS CELL\n",
        "# test cases for gradient function\n",
        "\n",
        "X = np.array([[1, 2], [1, 4]])\n",
        "theta = np.array([0, 2]) # initial weights\n",
        "y = np.array([4, 8])\n",
        "gradient = compute_gradient(X, theta, y)\n",
        "assert_almost_equal(gradient, [0, 0])\n",
        "\n",
        "y = np.array([5, 9])\n",
        "gradient = compute_gradient(X, theta, y)\n",
        "assert_almost_equal(gradient, [-1, -3])\n",
        "\n",
        "y = np.array([6, 10])\n",
        "gradient = compute_gradient(X, theta, y)\n",
        "assert_almost_equal(gradient, [-2, -6])\n",
        "\n",
        "print('Passed all tests!')"
      ]
    },
    {
      "cell_type": "code",
      "execution_count": 8,
      "metadata": {
        "colab": {
          "base_uri": "https://localhost:8080/"
        },
        "id": "hwMWvv37Z0kD",
        "outputId": "45d79122-dc76-4ed3-9684-36792477f5cd"
      },
      "outputs": [
        {
          "name": "stdout",
          "output_type": "stream",
          "text": [
            "Current loss: 0.1799999999999998\n",
            "Current loss: 0.1619999999999998\n",
            "Current loss: 0.158922\n",
            "Current loss: 0.15602057999999977\n",
            "Current loss: 0.15317310600000017\n",
            "Passed all tests!\n"
          ]
        }
      ],
      "source": [
        "# DO NOT EDIT THIS CELL\n",
        "# test cases for weight update\n",
        "X = np.array([[1, 2], [1, 4]])\n",
        "theta = np.array([0, 2]) # initial weights\n",
        "y = np.array([6, 10])\n",
        "alpha = 1e-1\n",
        "\n",
        "# iteration 1\n",
        "theta = weight_update(X, theta, y, alpha)\n",
        "assert_almost_equal(theta, [0.2, 2.6])\n",
        "loss = compute_loss(X, theta, y)\n",
        "print(f'Current loss: {loss}')\n",
        "\n",
        "# iteration 2\n",
        "theta = weight_update(X, theta, y, alpha)\n",
        "assert_almost_equal(theta, [0.2, 2.54])\n",
        "loss = compute_loss(X, theta, y)\n",
        "print(f'Current loss: {loss}')\n",
        "\n",
        "# iteration 3\n",
        "theta = weight_update(X, theta, y, alpha)\n",
        "assert_almost_equal(theta, [0.218, 2.54])\n",
        "loss = compute_loss(X, theta, y)\n",
        "print(f'Current loss: {loss}')\n",
        "\n",
        "# iteration 4\n",
        "theta = weight_update(X, theta, y, alpha)\n",
        "assert_almost_equal(theta, [0.2342, 2.5346])\n",
        "loss = compute_loss(X, theta, y)\n",
        "print(f'Current loss: {loss}')\n",
        "\n",
        "# iteration 5\n",
        "theta = weight_update(X, theta, y, alpha)\n",
        "assert_almost_equal(theta, [0.2504 , 2.52974])\n",
        "loss = compute_loss(X, theta, y)\n",
        "print(f'Current loss: {loss}')\n",
        "\n",
        "print('Passed all tests!')"
      ]
    },
    {
      "cell_type": "code",
      "execution_count": 14,
      "metadata": {
        "colab": {
          "base_uri": "https://localhost:8080/"
        },
        "id": "ZIRq2Nkh2TZy",
        "outputId": "213c303d-ca42-461e-8a56-7e38d8c889a7"
      },
      "outputs": [
        {
          "name": "stdout",
          "output_type": "stream",
          "text": [
            "Passed all tests!\n"
          ]
        }
      ],
      "source": [
        "# DO NOT EDIT THIS CELL\n",
        "# test cases for weight update\n",
        "\n",
        "def prepare_X_theta(X):\n",
        "  np.random.seed(42)\n",
        "\n",
        "  b = np.ones(X.shape[0]).reshape(-1,1)\n",
        "  X = np.concatenate([b, X], axis=1)\n",
        "  weight_multiplier = 1e-1\n",
        "  theta = np.random.random((X.shape[1])) * weight_multiplier\n",
        "\n",
        "  return X, theta\n",
        "\n",
        "def rescale_data(data:np.array):\n",
        "  data_mean, data_std = data.mean(), data.std()\n",
        "  data = (data-data_mean)/data_std\n",
        "  return data, data_mean, data_std\n",
        "\n",
        "\n",
        "# datasets.load_boston() is deprecated as of Pandas 1.2.0\n",
        "# X, y = datasets.load_boston(return_X_y=True)\n",
        "\n",
        "# Using the source from the documentation to load the data instead\n",
        "import pandas as pd\n",
        "data_url = \"http://lib.stat.cmu.edu/datasets/boston\"\n",
        "raw_df = pd.read_csv(data_url, sep=r'\\s+', skiprows=22, header=None)\n",
        "X = np.hstack([raw_df.values[::2, :], raw_df.values[1::2, :2]])\n",
        "y = raw_df.values[1::2, 2]\n",
        "X_train, X_test, y_train, y_test = train_test_split(X, y, test_size=0.2, random_state=42)\n",
        "\n",
        "X, X_mean, X_std = rescale_data(X_train)\n",
        "X, initial_theta = prepare_X_theta(X)\n",
        "alpha = 1e-2\n",
        "# print(f'Initial weights: {initial_theta}')\n",
        "theta = weight_update(X, initial_theta, y_train, alpha)\n",
        "expected_theta = [0.2655001978868943,\n",
        " -0.011637618099986924,\n",
        " -0.014123455625562178,\n",
        " -0.03509131258449641,\n",
        " -0.09449554944194578,\n",
        " -0.09379449048202543,\n",
        " -0.09411709029610936,\n",
        " 0.07867445278043156,\n",
        " -0.04378356773810579,\n",
        " -0.026778645675046203,\n",
        " 0.4817274450351354,\n",
        " 0.015021167271587685,\n",
        " 0.5564536845613424,\n",
        " -0.07268059253241976]\n",
        "assert_almost_equal(theta, expected_theta)\n",
        "\n",
        "X, X_mean, X_std = rescale_data(X_test)\n",
        "X, initial_theta = prepare_X_theta(X)\n",
        "alpha = 1e-3\n",
        "# print(f'Initial weights: {initial_theta}')\n",
        "theta = weight_update(X, initial_theta, y_test, alpha)\n",
        "expected_theta = [0.05895544331503736,\n",
        " 0.0850801505834033,\n",
        " 0.0651786789752611,\n",
        " 0.05102327287892467,\n",
        " 0.005281846029592316,\n",
        " 0.005345543649288255,\n",
        " -0.0036093435904278786,\n",
        " 0.08530466054873793,\n",
        " 0.050357930779005876,\n",
        " 0.061780423379101244,\n",
        " 0.04794669159781649,\n",
        " 0.08934150147127123,\n",
        " 0.1261801950624165,\n",
        " 0.012534315048557546]\n",
        "assert_almost_equal(theta, expected_theta)\n",
        "\n",
        "print('Passed all tests!')"
      ]
    },
    {
      "cell_type": "markdown",
      "metadata": {
        "id": "hPpSjBRrNPWl"
      },
      "source": [
        "## Gradient Descent\n",
        "\n",
        "The **Gradient Descent algorithm** is as follows:\n",
        "\n",
        "- Initialize starting weights.\n",
        "- While not coverging (change in loss is too small or exceeded max. number of iterations)\n",
        " - compute loss\n",
        " - compute gradient\n",
        " - update weights\n",
        "\n",
        "\n",
        " I have already done the initialization of weights and data preparation. Kindly complete the rest of the gradient descent implementation.\n",
        "\n",
        " > **Extra information:** You might notice that there's rescaling of data that I have included in the implementation. This helps the model to converge properly. Not doing so for this particular dataset causes the model to overshoot--the values will blow up. There are other ways of handling the said issue like regularization and different learning rate value. Through experimentation, I was able to determine that `alpha < 1e-6` will prevent this problem, but I won't be doing that for the code below."
      ]
    },
    {
      "cell_type": "code",
      "execution_count": 10,
      "metadata": {
        "id": "oKwVcFzsLxjI"
      },
      "outputs": [],
      "source": [
        "def gradient_descent(X:np.array, y:np.array, alpha:float,\n",
        "                     max_iters:int=100, tolerance:float=1e-4) -> dict:\n",
        "  '''\n",
        "  Perform gradient descent.\n",
        "  Do early stopping if any of the following applies:\n",
        "   - current absolute change in loss < tolerance\n",
        "   - current iteration number > max_iters\n",
        "\n",
        "  Parameters\n",
        "  ---\n",
        "  X : input matrix\n",
        "  y : output vector\n",
        "  alpha : learning rate\n",
        "  max_iters : maximum number of iterations\n",
        "  tolerance : threshold for change in loss\n",
        "\n",
        "  Returns\n",
        "  ---\n",
        "  model -> dict\n",
        "    dict containing the following key-value pairs: losses, theta.\n",
        "    Ex. {'losses': [100, 19.5, 0.3], 'theta': [0, 1, 2]}\n",
        "  losses -> list\n",
        "    list of loss values for each iteration\n",
        "  theta -> np.array\n",
        "    final weights\n",
        "  '''\n",
        "  X, theta = prepare_X_theta(X)\n",
        "  losses = []\n",
        "\n",
        "  initial_loss = compute_loss(X, theta, y)\n",
        "\n",
        "  # insert code here\n",
        "  for i in range(max_iters):\n",
        "    theta = weight_update(X, theta, y, alpha)\n",
        "    loss = compute_loss(X, theta, y)\n",
        "    losses.append(loss)\n",
        "    if (i > 0 and abs(losses[-1] - losses[-2]) < tolerance) or (i == 0 and abs(loss - initial_loss) < tolerance):\n",
        "      break\n",
        "\n",
        "  model = {'losses': losses, 'theta': theta}\n",
        "  return model"
      ]
    },
    {
      "cell_type": "markdown",
      "metadata": {
        "id": "oh7qe9s-ljxK"
      },
      "source": [
        "### Test Cases"
      ]
    },
    {
      "cell_type": "code",
      "execution_count": 11,
      "metadata": {
        "id": "sjb6SAefLx0M"
      },
      "outputs": [],
      "source": [
        "# DO NOT EDIT THIS CELL\n",
        "\n",
        "# datasets.load_boston() is deprecated as of Pandas 1.2.0\n",
        "# X, y = datasets.load_boston(return_X_y=True)\n",
        "\n",
        "# Using the source from the documentation to load the data instead\n",
        "import pandas as pd\n",
        "data_url = \"http://lib.stat.cmu.edu/datasets/boston\"\n",
        "raw_df = pd.read_csv(data_url, sep=r'\\s+', skiprows=22, header=None)\n",
        "X = np.hstack([raw_df.values[::2, :], raw_df.values[1::2, :2]])\n",
        "y = raw_df.values[1::2, 2]\n",
        "X, X_mean, X_std = rescale_data(X)\n",
        "\n",
        "alpha = 1e-1\n",
        "max_iters = 20\n",
        "tolerance = 1e-4\n",
        "model_results = gradient_descent(X, y, alpha, max_iters, tolerance)\n",
        "losses, theta = model_results['losses'], model_results['theta']\n",
        "\n",
        "assert_almost_equal(losses, [77.084210963635, 56.67394196766476, 51.52731732318001, 48.26732400517173, 45.759552727473064,\n",
        "                             43.78617787900164, 42.22536177143829, 40.985708579569845, 39.996338207983555, 39.2021072682085,\n",
        "                             38.560101467675665, 38.036921347277804, 37.606571301451275, 37.24881702637918, 36.94790739639875,\n",
        "                             36.69157990965588, 36.47028678861529, 36.27659277987291, 36.104706559257295, 35.950116099931904])\n",
        "\n",
        "assert_almost_equal(theta, [3.4620499831397646, -1.788487463316586, -0.358811913753914, -1.6892995163351336, -1.6308230134470887,\n",
        "                            -1.629553747949157, -1.4394623084383056, -1.0611705208417919, -1.4540364646948567, -1.6863420600067505,\n",
        "                            -0.4884603258917829, -1.2533551440249076, 6.720557598031844, -1.912947973969994])"
      ]
    },
    {
      "cell_type": "code",
      "execution_count": 12,
      "metadata": {
        "id": "YNqnQzUPlrX4"
      },
      "outputs": [],
      "source": [
        "# DO NOT EDIT THIS CELL\n",
        "\n",
        "# datasets.load_boston() is deprecated as of Pandas 1.2.0\n",
        "# X, y = datasets.load_boston(return_X_y=True)\n",
        "\n",
        "# Using the source from the documentation to load the data instead\n",
        "import pandas as pd\n",
        "data_url = \"http://lib.stat.cmu.edu/datasets/boston\"\n",
        "raw_df = pd.read_csv(data_url, sep=r'\\s+', skiprows=22, header=None)\n",
        "X = np.hstack([raw_df.values[::2, :], raw_df.values[1::2, :2]])\n",
        "y = raw_df.values[1::2, 2]\n",
        "X_train, X_test, y_train, y_test = train_test_split(X, y, test_size=0.2, random_state=42)\n",
        "X, X_mean, X_std = rescale_data(X_train)\n",
        "\n",
        "alpha = 1e-1\n",
        "max_iters = 20\n",
        "tolerance = 1e-4\n",
        "model_results = gradient_descent(X, y_train, alpha, max_iters, tolerance)\n",
        "losses_train, theta = model_results['losses'], model_results['theta']\n",
        "\n",
        "assert_almost_equal(losses_train, [78.19148474471318, 57.4248537235751, 52.30038919989225, 49.0782902807199, 46.60174245378833,\n",
        "                             44.65324381172846, 43.11239070938216, 41.88895936729907, 40.91296649543095, 40.129950694692674,\n",
        "                             39.49751574268521, 38.982655472310405, 38.55967265179523, 38.20855918721551, 37.91373532955097,\n",
        "                             37.66306831372921, 37.447108497924596, 37.25849479785236, 37.09149189470678, 36.941630011368105])\n",
        "\n",
        "assert_almost_equal(theta, [3.436935387634544, -1.7986772621563663, -0.4893497276576043, -1.6778979200767734, -1.6202834477313934,\n",
        "                            -1.6197519858502838, -1.425216918608845, -0.9421119001849715, -1.4461860762479994, -1.693531503872381,\n",
        "                            -0.47233074152084514, -1.2490723640659451, 6.780557354417374, -1.9252216307880679])"
      ]
    },
    {
      "cell_type": "code",
      "execution_count": 13,
      "metadata": {
        "colab": {
          "base_uri": "https://localhost:8080/",
          "height": 410
        },
        "id": "WLPga3SAjZEh",
        "outputId": "424df8e3-cef3-4083-d770-8d78c3e45a6b"
      },
      "outputs": [
        {
          "data": {
            "image/png": "[encoded data removed]",
            "text/plain": [
              "<Figure size 800x400 with 1 Axes>"
            ]
          },
          "metadata": {},
          "output_type": "display_data"
        }
      ],
      "source": [
        "# DO NOT EDIT THIS CELL\n",
        "\n",
        "fig, (ax1) = plt.subplots(1, 1, figsize=(8,4), dpi=100)\n",
        "\n",
        "ax1.plot(losses, label='whole set loss')\n",
        "ax1.plot(losses_train, label='train set loss')\n",
        "\n",
        "ax1.set_title('Loss Plot')\n",
        "ax1.set_xlabel('Iterations')\n",
        "ax1.set_ylabel('loss')\n",
        "\n",
        "plt.legend()\n",
        "plt.show()"
      ]
    },
    {
      "cell_type": "markdown",
      "metadata": {
        "id": "a0_Zca9nI6q8"
      },
      "source": [
        "## Writeup\n",
        "\n",
        "Put your analysis here...\n",
        "\n",
        " - **How does the model work?**\n",
        "    This model performs linear regression using gradient descent to minimize the the mean squared error of the actual and predicted values. In the gradient descent function, it iteratively updates the weights to get the gradient of the loss function to get the local minimum and reduce the error. \n",
        "                                                        \n",
        " - **What biases/assumptions does the algorithm have?**\n",
        "   For linear regression, there are four general assumptions. First, that the relationship between X and the mean of Y is linear. Second, that the variance of residual is the same for any value of X. Third, that observations are independent of each other. Lastly, that Y is normally distributed for any fixed value of X. \n",
        "\n",
        "   Gradient Descent is sensitive to the learning rate and feature scaling as we tune it to get the most effective convergence. Furthermore, this model is prone to overfitting if used without regularization. Careful tuning of the learning rate, early stopping criteria, and feature preprocessing are essential for robust performance.\n",
        "\n",
        " - **What were the challenges as you were implementing it?**\n",
        "    Implementing early stopping for gradient descent. There may be cases that the condition might not be sensitive enough to detect smaller imprvements in loss values, especially when the loss plateaus or decreases slowly.\n",
        "\n",
        " - **Was there anything surprising about the results of the test cases? Check the weights and loss.**\n",
        "The test results were mostly as expected, but it was somewhat surprising that the training set loss and the whole set loss were so similar. This indicates that the model generalizes well to the entire dataset and is not overfitting the training data. This could be due to the fact that the dataset used was relatively simple, and the gradient descent implementation worked effectively in optimizing the weights.\n",
        "The fact that both the training and overall loss curves have a steady decline without large fluctuations indicates that the learning rate was well-tuned for this particular task. A poor learning rate would have resulted in more erratic loss behavior or a very slow convergence.\n",
        "\n",
        "   In addition, when comparing the weights from the whole set versus the train set, we can see that all values are similar or close in values except for the 3rd parameter (−0.35 in the whole dataset vs. −0.48 in the train set) and the 13th parameter (6.72 in the whole dataset vs. 6.78 in the train set). This shows how a training set can impact a model's ability to generalize from the given data.\n",
        "\n"
      ]
    },
    {
      "cell_type": "markdown",
      "metadata": {},
      "source": []
    },
    {
      "cell_type": "markdown",
      "metadata": {
        "id": "junj9MXvJBE5"
      },
      "source": [
        "## References"
      ]
    },
    {
      "cell_type": "markdown",
      "metadata": {
        "id": "wtA18qZ0fBXN"
      },
      "source": [
        "## End\n",
        "<sup>made by **Jude Michael Teves**</sup> <br>\n",
        "<sup>for comments, corrections, suggestions, please email:</sup><sup> <href>judemichaelteves@gmail.com</href>> or <href>jude.teves@dlsu.edu.ph</href></sup><br>\n"
      ]
    }
  ],
  "metadata": {
    "colab": {
      "include_colab_link": true,
      "provenance": []
    },
    "kernelspec": {
      "display_name": "Python 3 (ipykernel)",
      "language": "python",
      "name": "python3"
    },
    "language_info": {
      "codemirror_mode": {
        "name": "ipython",
        "version": 3
      },
      "file_extension": ".py",
      "mimetype": "text/x-python",
      "name": "python",
      "nbconvert_exporter": "python",
      "pygments_lexer": "ipython3",
      "version": "3.10.4"
    }
  },
  "nbformat": 4,
  "nbformat_minor": 0
}
